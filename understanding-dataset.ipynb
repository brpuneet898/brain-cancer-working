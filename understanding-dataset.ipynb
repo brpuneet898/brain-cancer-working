{
 "cells": [
  {
   "cell_type": "code",
   "execution_count": 2,
   "id": "3e1eb180",
   "metadata": {},
   "outputs": [
    {
     "name": "stdout",
     "output_type": "stream",
     "text": [
      "Total number of patients: 165\n"
     ]
    }
   ],
   "source": [
    "import os\n",
    "base_path = os.getcwd()\n",
    "\n",
    "total_dir_count = 0\n",
    "\n",
    "for item in os.listdir(base_path):\n",
    "    item_path = os.path.join(base_path, item)\n",
    "    if os.path.isdir(item_path) and item.endswith('_DCM'):\n",
    "        for sub_item in os.listdir(item_path):\n",
    "            sub_item_path = os.path.join(item_path, sub_item)\n",
    "            if os.path.isdir(sub_item_path):\n",
    "                total_dir_count += 1\n",
    "\n",
    "print(f\"Total number of patients: {total_dir_count}\")\n"
   ]
  },
  {
   "cell_type": "code",
   "execution_count": null,
   "id": "357c3ceb",
   "metadata": {},
   "outputs": [
    {
     "name": "stdout",
     "output_type": "stream",
     "text": [
      "Total number of .dcm files in all *_DCM folders: 94131\n"
     ]
    }
   ],
   "source": [
    "import os\n",
    "\n",
    "dcm_file_count = 0\n",
    "\n",
    "for item in os.listdir(base_path):\n",
    "    item_path = os.path.join(base_path, item)\n",
    "    \n",
    "    if os.path.isdir(item_path) and item.endswith('_DCM'):\n",
    "        for root, dirs, files in os.walk(item_path):\n",
    "            for file in files:\n",
    "                if file.lower().endswith('.dcm'):\n",
    "                    dcm_file_count += 1\n",
    "\n",
    "print(f\"Total number of .dcm files in all *_DCM folders: {dcm_file_count}\")\n"
   ]
  }
 ],
 "metadata": {
  "kernelspec": {
   "display_name": "Python 3",
   "language": "python",
   "name": "python3"
  },
  "language_info": {
   "codemirror_mode": {
    "name": "ipython",
    "version": 3
   },
   "file_extension": ".py",
   "mimetype": "text/x-python",
   "name": "python",
   "nbconvert_exporter": "python",
   "pygments_lexer": "ipython3",
   "version": "3.11.4"
  }
 },
 "nbformat": 4,
 "nbformat_minor": 5
}
